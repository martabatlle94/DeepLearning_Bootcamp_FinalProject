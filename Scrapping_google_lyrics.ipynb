{
 "cells": [
  {
   "cell_type": "code",
   "execution_count": 1,
   "metadata": {},
   "outputs": [],
   "source": [
    "from selenium import webdriver \n",
    "from selenium.webdriver.common.by import By \n",
    "from selenium.webdriver.support.ui import WebDriverWait \n",
    "from selenium.webdriver.support import expected_conditions as EC \n",
    "from selenium.common.exceptions import TimeoutException\n",
    "\n",
    "import pandas as pd\n",
    "\n",
    "browser = webdriver.Chrome()"
   ]
  },
  {
   "cell_type": "code",
   "execution_count": 105,
   "metadata": {},
   "outputs": [],
   "source": [
    "title= [\"Diamonds\", \"If I were a boy\"]\n",
    "singer= [\"Rihanna\", \"Beyoncé\"]\n",
    "\n",
    "all_lyrics=[]\n",
    "all_ids=[]\n",
    "\n",
    "for t, s in zip(title, singer):\n",
    "    lyrics=[]\n",
    "    browser.get(f\"https://www.google.com/search?q={t}+{s}+lyrics&sourceid=chrome&ie=UTF-8\")\n",
    "    ids = browser.find_elements_by_class_name(\"i4J0ge\")\n",
    "    lyric = [x.text for x in ids]\n",
    "    lyrics.append(lyric)\n",
    "    all_ids.append(t+'+'+s)\n",
    "    all_lyrics.append(lyrics)"
   ]
  },
  {
   "cell_type": "code",
   "execution_count": 106,
   "metadata": {},
   "outputs": [],
   "source": [
    "all_lyrics=pd.DataFrame(all_lyrics).reset_index(drop=True)"
   ]
  },
  {
   "cell_type": "code",
   "execution_count": 107,
   "metadata": {},
   "outputs": [],
   "source": [
    "all_ids=pd.DataFrame(all_ids).reset_index(drop=True)"
   ]
  },
  {
   "cell_type": "code",
   "execution_count": 108,
   "metadata": {},
   "outputs": [
    {
     "data": {
      "text/html": [
       "<div>\n",
       "<style scoped>\n",
       "    .dataframe tbody tr th:only-of-type {\n",
       "        vertical-align: middle;\n",
       "    }\n",
       "\n",
       "    .dataframe tbody tr th {\n",
       "        vertical-align: top;\n",
       "    }\n",
       "\n",
       "    .dataframe thead th {\n",
       "        text-align: right;\n",
       "    }\n",
       "</style>\n",
       "<table border=\"1\" class=\"dataframe\">\n",
       "  <thead>\n",
       "    <tr style=\"text-align: right;\">\n",
       "      <th></th>\n",
       "      <th>0_x</th>\n",
       "      <th>0_y</th>\n",
       "    </tr>\n",
       "  </thead>\n",
       "  <tbody>\n",
       "    <tr>\n",
       "      <td>0</td>\n",
       "      <td>[Shine bright like a diamond\\nShine bright lik...</td>\n",
       "      <td>Diamonds+Rihanna</td>\n",
       "    </tr>\n",
       "    <tr>\n",
       "      <td>1</td>\n",
       "      <td>[Si yo fuera un chico\\nSolo por una vez\\nYo me...</td>\n",
       "      <td>If I were a boy+Beyoncé</td>\n",
       "    </tr>\n",
       "  </tbody>\n",
       "</table>\n",
       "</div>"
      ],
      "text/plain": [
       "                                                 0_x                      0_y\n",
       "0  [Shine bright like a diamond\\nShine bright lik...         Diamonds+Rihanna\n",
       "1  [Si yo fuera un chico\\nSolo por una vez\\nYo me...  If I were a boy+Beyoncé"
      ]
     },
     "execution_count": 108,
     "metadata": {},
     "output_type": "execute_result"
    }
   ],
   "source": [
    "all_lyrics.merge(all_ids, left_index=True, right_index=True)"
   ]
  }
 ],
 "metadata": {
  "kernelspec": {
   "display_name": "Python 3",
   "language": "python",
   "name": "python3"
  },
  "language_info": {
   "codemirror_mode": {
    "name": "ipython",
    "version": 3
   },
   "file_extension": ".py",
   "mimetype": "text/x-python",
   "name": "python",
   "nbconvert_exporter": "python",
   "pygments_lexer": "ipython3",
   "version": "3.7.4"
  }
 },
 "nbformat": 4,
 "nbformat_minor": 2
}
